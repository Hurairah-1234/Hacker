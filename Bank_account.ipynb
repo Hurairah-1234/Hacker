{
 "cells": [
  {
   "cell_type": "code",
   "execution_count": 5,
   "metadata": {},
   "outputs": [
    {
     "name": "stdout",
     "output_type": "stream",
     "text": [
      "Welcome To Your Bank Account.\n",
      "Enter 1 to check balance,\n",
      "Enter 2 to desposit,\n",
      "Enter 3 to withdraw,\n",
      "Enter 4 to quit.\n",
      "\n",
      "Your Current Balance is:0\n",
      "Enter 1 to check balance,\n",
      "Enter 2 to desposit,\n",
      "Enter 3 to withdraw,\n",
      "Enter 4 to quit.\n",
      "\n",
      "Your Current Balance after deposit is:1000\n",
      "Enter 1 to check balance,\n",
      "Enter 2 to desposit,\n",
      "Enter 3 to withdraw,\n",
      "Enter 4 to quit.\n",
      "\n",
      "Your Current Balance is:1000\n",
      "Enter 1 to check balance,\n",
      "Enter 2 to desposit,\n",
      "Enter 3 to withdraw,\n",
      "Enter 4 to quit.\n",
      "\n",
      "The Withdraw Is Successful and Your Remaining Balance is:500\n",
      "Enter 1 to check balance,\n",
      "Enter 2 to desposit,\n",
      "Enter 3 to withdraw,\n",
      "Enter 4 to quit.\n"
     ]
    },
    {
     "ename": "ValueError",
     "evalue": "invalid literal for int() with base 10: ''",
     "output_type": "error",
     "traceback": [
      "\u001b[1;31m---------------------------------------------------------------------------\u001b[0m",
      "\u001b[1;31mValueError\u001b[0m                                Traceback (most recent call last)",
      "\u001b[1;32md:\\python work\\New folder\\Bank_account.ipynb Cell 1\u001b[0m in \u001b[0;36m<cell line: 27>\u001b[1;34m()\u001b[0m\n\u001b[0;32m     <a href='vscode-notebook-cell:/d%3A/python%20work/New%20folder/Bank_account.ipynb#W0sZmlsZQ%3D%3D?line=25'>26</a>\u001b[0m bank_account\u001b[39m.\u001b[39mwelcome()\n\u001b[0;32m     <a href='vscode-notebook-cell:/d%3A/python%20work/New%20folder/Bank_account.ipynb#W0sZmlsZQ%3D%3D?line=26'>27</a>\u001b[0m \u001b[39mwhile\u001b[39;00m \u001b[39mTrue\u001b[39;00m:\n\u001b[1;32m---> <a href='vscode-notebook-cell:/d%3A/python%20work/New%20folder/Bank_account.ipynb#W0sZmlsZQ%3D%3D?line=27'>28</a>\u001b[0m     user_requirement \u001b[39m=\u001b[39m \u001b[39mint\u001b[39;49m(\u001b[39minput\u001b[39;49m(\u001b[39mf\u001b[39;49m\u001b[39m\"\u001b[39;49m\u001b[39m\\n\u001b[39;49;00m\u001b[39m{\u001b[39;49;00mbank_account\u001b[39m.\u001b[39;49maccount_info()\u001b[39m}\u001b[39;49;00m\u001b[39m\"\u001b[39;49m))\n\u001b[0;32m     <a href='vscode-notebook-cell:/d%3A/python%20work/New%20folder/Bank_account.ipynb#W0sZmlsZQ%3D%3D?line=29'>30</a>\u001b[0m     \u001b[39mif\u001b[39;00m user_requirement \u001b[39m==\u001b[39m \u001b[39m1\u001b[39m:\n\u001b[0;32m     <a href='vscode-notebook-cell:/d%3A/python%20work/New%20folder/Bank_account.ipynb#W0sZmlsZQ%3D%3D?line=30'>31</a>\u001b[0m         \u001b[39mprint\u001b[39m(bank_account\u001b[39m.\u001b[39mprintcurrentbalance())\n",
      "\u001b[1;31mValueError\u001b[0m: invalid literal for int() with base 10: ''"
     ]
    }
   ],
   "source": [
    "class Bank_Acc:\n",
    "    def __init__(self, name):\n",
    "        self.name = name\n",
    "        self.balance = 0\n",
    "    def welcome(self):\n",
    "        print(f\"Welcome To Your Bank Account.\")\n",
    "        print(self.account_info())\n",
    "    def account_info(self):\n",
    "        disp = (\"Enter 1 to check balance,\\nEnter 2 to desposit,\\nEnter 3 to withdraw,\\nEnter 4 to quit.\")\n",
    "        return disp\n",
    "    def printcurrentbalance(self):\n",
    "        disp = (f\"\\nYour Current Balance is:{self.balance}\")\n",
    "        return disp\n",
    "    def deposit(self, d_amount):\n",
    "        self.balance += d_amount\n",
    "        print (f\"\\nYour Current Balance after deposit is:{self.balance}\")\n",
    "    def withdraw(self, w_amount):\n",
    "        if (self.balance >= w_amount):\n",
    "            self.balance = self.balance - w_amount\n",
    "            print(f\"\\nThe Withdraw Is Successful and Your Remaining Balance is:{self.balance}\")\n",
    "        else:\n",
    "            print(f\"\\nInsufficient Balance:{self.balance}\")\n",
    "            \n",
    "name = input(\"Enter Your Name: \")\n",
    "bank_account = Bank_Acc(name)\n",
    "bank_account.welcome()\n",
    "while True:\n",
    "    user_requirement = int(input(f\"\\n{bank_account.account_info()}\"))\n",
    "    \n",
    "    if user_requirement == 1:\n",
    "        print(bank_account.printcurrentbalance())\n",
    "    if user_requirement == 2:\n",
    "        user_amount_d = int(input(f\"Enter Amount To Deposit:\"))\n",
    "        bank_account.deposit(user_amount_d)\n",
    "    if user_requirement == 3:\n",
    "        user_amount_w = int(input(f\"Enter Amount To Withdraw:\"))\n",
    "        bank_account.withdraw(user_amount_w)\n",
    "    if user_requirement == 4:\n",
    "        break\n",
    "    print(bank_account.account_info()) "
   ]
  }
 ],
 "metadata": {
  "kernelspec": {
   "display_name": "Python 3.10.6 64-bit",
   "language": "python",
   "name": "python3"
  },
  "language_info": {
   "codemirror_mode": {
    "name": "ipython",
    "version": 3
   },
   "file_extension": ".py",
   "mimetype": "text/x-python",
   "name": "python",
   "nbconvert_exporter": "python",
   "pygments_lexer": "ipython3",
   "version": "3.10.6"
  },
  "orig_nbformat": 4,
  "vscode": {
   "interpreter": {
    "hash": "80642ae5ca79c42391a276aa49b3276ac9b91f37d625bd062bf00a0ca091e0e2"
   }
  }
 },
 "nbformat": 4,
 "nbformat_minor": 2
}
