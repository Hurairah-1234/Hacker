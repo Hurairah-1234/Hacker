{
 "cells": [
  {
   "cell_type": "code",
   "execution_count": 5,
   "metadata": {},
   "outputs": [
    {
     "name": "stdout",
     "output_type": "stream",
     "text": [
      "Real And Img Part Of First Complex Number: 2 1\n",
      "Real And Img Part Of Second Complex Number: 2 1\n",
      "C+D: 4.00+2.00i\n",
      "C-D: 0.000.00i\n",
      "C*D: 1.00+6.00i\n",
      "C/D: 0.26-0.11i\n",
      "C%D:\n",
      " 2.24+0.00i\n",
      "7.81+0.00i\n"
     ]
    }
   ],
   "source": [
    "import math\n",
    "class Complex(object):\n",
    "    def __init__(self, real, imaginary):\n",
    "        self.real = real\n",
    "        self.imaginary = imaginary\n",
    "        \n",
    "    def __add__(self, other):\n",
    "        sum_of_real = self.real + other.real\n",
    "        sum_of_img = self.imaginary + other.imaginary\n",
    "        return f\"{sum_of_real:.2f}+{sum_of_img:.2f}i\"\n",
    "    \n",
    "    def __sub__(self, other):\n",
    "        diff_of_real = self.real - other.real\n",
    "        diff_of_img = self.imaginary - other.imaginary\n",
    "        return f\"{diff_of_real:.2f}{diff_of_img:.2f}i\"\n",
    "    \n",
    "    def __mul__(self, other):\n",
    "        prod_of_real = other.real - self.imaginary\n",
    "        prod_of_img = (self.real * other.real) + (self.imaginary + other.imaginary)\n",
    "        return f\"{prod_of_real:.2f}+{prod_of_img:.2f}i\"\n",
    "    \n",
    "    def __truediv__(self, other):\n",
    "        num = complex(self.real,self.imaginary) / complex(other.real,other.imag)\n",
    "        return f\"{num.real:.2f}{num.imag:+.2f}i\"    \n",
    "\n",
    "    def mod(self):\n",
    "        res = (self.real**2) + (self.imaginary**2)\n",
    "        return f\"{round(math.sqrt(res),2)}+0.00i\"\n",
    "    \n",
    "    def __str__(self):\n",
    "        if self.imaginary == 0:\n",
    "            result = \"%.2f+0.00i\" % (self.real)\n",
    "        elif self.real == 0:\n",
    "            if self.imaginary >= 0:\n",
    "                result = \"0.00+%.2fi\" % (self.imaginary)\n",
    "            else:\n",
    "                result = \"0.00-%.2fi\" % (abs(self.imaginary))\n",
    "        elif self.imaginary > 0:\n",
    "            result = \"%.2f+%.2fi\" % (self.real, self.imaginary)\n",
    "        else:\n",
    "            result = \"%.2f-%.2fi\" % (self.real, abs(self.imaginary))\n",
    "        return result    \n",
    "\n",
    "complex_number = Complex(2,1)\n",
    "print(\"Real And Img Part Of First Complex Number:\",complex_number.real,complex_number.imaginary)\n",
    "print(\"Real And Img Part Of Second Complex Number:\",complex_number.real,complex_number.imaginary)\n",
    "print(\"C+D:\",complex_number.__add__(complex_number))\n",
    "print(\"C-D:\",complex_number.__sub__(complex_number))\n",
    "print(\"C*D:\", complex_number.__mul__(complex_number))\n",
    "print(\"C/D:\", complex_number.__truediv__(5+6j))\n",
    "print(\"C%D:\\n\",complex_number.mod())\n",
    "print(Complex(5,6).mod())"
   ]
  }
 ],
 "metadata": {
  "kernelspec": {
   "display_name": "Python 3.10.6 64-bit",
   "language": "python",
   "name": "python3"
  },
  "language_info": {
   "codemirror_mode": {
    "name": "ipython",
    "version": 3
   },
   "file_extension": ".py",
   "mimetype": "text/x-python",
   "name": "python",
   "nbconvert_exporter": "python",
   "pygments_lexer": "ipython3",
   "version": "3.10.6"
  },
  "orig_nbformat": 4,
  "vscode": {
   "interpreter": {
    "hash": "80642ae5ca79c42391a276aa49b3276ac9b91f37d625bd062bf00a0ca091e0e2"
   }
  }
 },
 "nbformat": 4,
 "nbformat_minor": 2
}
